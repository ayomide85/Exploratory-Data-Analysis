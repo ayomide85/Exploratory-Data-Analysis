{
 "cells": [
  {
   "cell_type": "code",
   "execution_count": 1,
   "id": "c546193a",
   "metadata": {
    "_cell_guid": "b1076dfc-b9ad-4769-8c92-a6c4dae69d19",
    "_uuid": "8f2839f25d086af736a60e9eeb907d3b93b6e0e5",
    "execution": {
     "iopub.execute_input": "2023-08-22T10:27:55.948530Z",
     "iopub.status.busy": "2023-08-22T10:27:55.948119Z",
     "iopub.status.idle": "2023-08-22T10:27:55.973172Z",
     "shell.execute_reply": "2023-08-22T10:27:55.972114Z"
    },
    "papermill": {
     "duration": 0.041409,
     "end_time": "2023-08-22T10:27:55.976261",
     "exception": false,
     "start_time": "2023-08-22T10:27:55.934852",
     "status": "completed"
    },
    "tags": []
   },
   "outputs": [
    {
     "name": "stdout",
     "output_type": "stream",
     "text": [
      "/kaggle/input/supermart-grocery-sales-retail-analytics-dataset/Supermart Grocery Sales - Retail Analytics Dataset.csv\n"
     ]
    }
   ],
   "source": [
    "# This Python 3 environment comes with many helpful analytics libraries installed\n",
    "# It is defined by the kaggle/python Docker image: https://github.com/kaggle/docker-python\n",
    "# For example, here's several helpful packages to load\n",
    "\n",
    "import numpy as np # linear algebra\n",
    "import pandas as pd # data processing, CSV file I/O (e.g. pd.read_csv)\n",
    "\n",
    "# Input data files are available in the read-only \"../input/\" directory\n",
    "# For example, running this (by clicking run or pressing Shift+Enter) will list all files under the input directory\n",
    "\n",
    "import os\n",
    "for dirname, _, filenames in os.walk('/kaggle/input'):\n",
    "    for filename in filenames:\n",
    "        print(os.path.join(dirname, filename))\n",
    "\n",
    "# You can write up to 20GB to the current directory (/kaggle/working/) that gets preserved as output when you create a version using \"Save & Run All\" \n",
    "# You can also write temporary files to /kaggle/temp/, but they won't be saved outside of the current session"
   ]
  },
  {
   "cell_type": "code",
   "execution_count": 2,
   "id": "f3b9f960",
   "metadata": {
    "execution": {
     "iopub.execute_input": "2023-08-22T10:27:56.000106Z",
     "iopub.status.busy": "2023-08-22T10:27:55.999617Z",
     "iopub.status.idle": "2023-08-22T10:27:57.294252Z",
     "shell.execute_reply": "2023-08-22T10:27:57.293222Z"
    },
    "papermill": {
     "duration": 1.310418,
     "end_time": "2023-08-22T10:27:57.297338",
     "exception": false,
     "start_time": "2023-08-22T10:27:55.986920",
     "status": "completed"
    },
    "tags": []
   },
   "outputs": [],
   "source": [
    "#Importing the Libraries\n",
    "import numpy as np\n",
    "import pandas as pd\n",
    "import datetime\n",
    "import matplotlib\n",
    "import matplotlib.pyplot as plt\n",
    "from matplotlib import colors\n",
    "import seaborn as sns\n",
    "import matplotlib.pyplot as plt, numpy as np\n",
    "from mpl_toolkits.mplot3d import Axes3D\n",
    "from matplotlib.colors import ListedColormap"
   ]
  },
  {
   "cell_type": "markdown",
   "id": "c622092b",
   "metadata": {
    "papermill": {
     "duration": 0.010131,
     "end_time": "2023-08-22T10:27:57.318023",
     "exception": false,
     "start_time": "2023-08-22T10:27:57.307892",
     "status": "completed"
    },
    "tags": []
   },
   "source": [
    "# **READING THE DATA**"
   ]
  },
  {
   "cell_type": "code",
   "execution_count": 3,
   "id": "e762a1e8",
   "metadata": {
    "execution": {
     "iopub.execute_input": "2023-08-22T10:27:57.341071Z",
     "iopub.status.busy": "2023-08-22T10:27:57.340601Z",
     "iopub.status.idle": "2023-08-22T10:27:57.417580Z",
     "shell.execute_reply": "2023-08-22T10:27:57.416205Z"
    },
    "papermill": {
     "duration": 0.092214,
     "end_time": "2023-08-22T10:27:57.420812",
     "exception": false,
     "start_time": "2023-08-22T10:27:57.328598",
     "status": "completed"
    },
    "tags": []
   },
   "outputs": [],
   "source": [
    "df=pd.read_csv('/kaggle/input/supermart-grocery-sales-retail-analytics-dataset/Supermart Grocery Sales - Retail Analytics Dataset.csv')"
   ]
  },
  {
   "cell_type": "code",
   "execution_count": 4,
   "id": "276ecc3d",
   "metadata": {
    "execution": {
     "iopub.execute_input": "2023-08-22T10:27:57.444202Z",
     "iopub.status.busy": "2023-08-22T10:27:57.443501Z",
     "iopub.status.idle": "2023-08-22T10:27:57.480981Z",
     "shell.execute_reply": "2023-08-22T10:27:57.479675Z"
    },
    "papermill": {
     "duration": 0.052357,
     "end_time": "2023-08-22T10:27:57.483874",
     "exception": false,
     "start_time": "2023-08-22T10:27:57.431517",
     "status": "completed"
    },
    "tags": []
   },
   "outputs": [
    {
     "data": {
      "text/html": [
       "<div>\n",
       "<style scoped>\n",
       "    .dataframe tbody tr th:only-of-type {\n",
       "        vertical-align: middle;\n",
       "    }\n",
       "\n",
       "    .dataframe tbody tr th {\n",
       "        vertical-align: top;\n",
       "    }\n",
       "\n",
       "    .dataframe thead th {\n",
       "        text-align: right;\n",
       "    }\n",
       "</style>\n",
       "<table border=\"1\" class=\"dataframe\">\n",
       "  <thead>\n",
       "    <tr style=\"text-align: right;\">\n",
       "      <th></th>\n",
       "      <th>Order ID</th>\n",
       "      <th>Customer Name</th>\n",
       "      <th>Category</th>\n",
       "      <th>Sub Category</th>\n",
       "      <th>City</th>\n",
       "      <th>Order Date</th>\n",
       "      <th>Region</th>\n",
       "      <th>Sales</th>\n",
       "      <th>Discount</th>\n",
       "      <th>Profit</th>\n",
       "      <th>State</th>\n",
       "    </tr>\n",
       "  </thead>\n",
       "  <tbody>\n",
       "    <tr>\n",
       "      <th>0</th>\n",
       "      <td>OD1</td>\n",
       "      <td>Harish</td>\n",
       "      <td>Oil &amp; Masala</td>\n",
       "      <td>Masalas</td>\n",
       "      <td>Vellore</td>\n",
       "      <td>11-08-2017</td>\n",
       "      <td>North</td>\n",
       "      <td>1254</td>\n",
       "      <td>0.12</td>\n",
       "      <td>401.28</td>\n",
       "      <td>Tamil Nadu</td>\n",
       "    </tr>\n",
       "    <tr>\n",
       "      <th>1</th>\n",
       "      <td>OD2</td>\n",
       "      <td>Sudha</td>\n",
       "      <td>Beverages</td>\n",
       "      <td>Health Drinks</td>\n",
       "      <td>Krishnagiri</td>\n",
       "      <td>11-08-2017</td>\n",
       "      <td>South</td>\n",
       "      <td>749</td>\n",
       "      <td>0.18</td>\n",
       "      <td>149.80</td>\n",
       "      <td>Tamil Nadu</td>\n",
       "    </tr>\n",
       "    <tr>\n",
       "      <th>2</th>\n",
       "      <td>OD3</td>\n",
       "      <td>Hussain</td>\n",
       "      <td>Food Grains</td>\n",
       "      <td>Atta &amp; Flour</td>\n",
       "      <td>Perambalur</td>\n",
       "      <td>06-12-2017</td>\n",
       "      <td>West</td>\n",
       "      <td>2360</td>\n",
       "      <td>0.21</td>\n",
       "      <td>165.20</td>\n",
       "      <td>Tamil Nadu</td>\n",
       "    </tr>\n",
       "    <tr>\n",
       "      <th>3</th>\n",
       "      <td>OD4</td>\n",
       "      <td>Jackson</td>\n",
       "      <td>Fruits &amp; Veggies</td>\n",
       "      <td>Fresh Vegetables</td>\n",
       "      <td>Dharmapuri</td>\n",
       "      <td>10-11-2016</td>\n",
       "      <td>South</td>\n",
       "      <td>896</td>\n",
       "      <td>0.25</td>\n",
       "      <td>89.60</td>\n",
       "      <td>Tamil Nadu</td>\n",
       "    </tr>\n",
       "    <tr>\n",
       "      <th>4</th>\n",
       "      <td>OD5</td>\n",
       "      <td>Ridhesh</td>\n",
       "      <td>Food Grains</td>\n",
       "      <td>Organic Staples</td>\n",
       "      <td>Ooty</td>\n",
       "      <td>10-11-2016</td>\n",
       "      <td>South</td>\n",
       "      <td>2355</td>\n",
       "      <td>0.26</td>\n",
       "      <td>918.45</td>\n",
       "      <td>Tamil Nadu</td>\n",
       "    </tr>\n",
       "  </tbody>\n",
       "</table>\n",
       "</div>"
      ],
      "text/plain": [
       "  Order ID Customer Name          Category      Sub Category         City  \\\n",
       "0      OD1        Harish      Oil & Masala           Masalas      Vellore   \n",
       "1      OD2         Sudha         Beverages     Health Drinks  Krishnagiri   \n",
       "2      OD3       Hussain       Food Grains      Atta & Flour   Perambalur   \n",
       "3      OD4       Jackson  Fruits & Veggies  Fresh Vegetables   Dharmapuri   \n",
       "4      OD5       Ridhesh       Food Grains   Organic Staples         Ooty   \n",
       "\n",
       "   Order Date Region  Sales  Discount  Profit       State  \n",
       "0  11-08-2017  North   1254      0.12  401.28  Tamil Nadu  \n",
       "1  11-08-2017  South    749      0.18  149.80  Tamil Nadu  \n",
       "2  06-12-2017   West   2360      0.21  165.20  Tamil Nadu  \n",
       "3  10-11-2016  South    896      0.25   89.60  Tamil Nadu  \n",
       "4  10-11-2016  South   2355      0.26  918.45  Tamil Nadu  "
      ]
     },
     "execution_count": 4,
     "metadata": {},
     "output_type": "execute_result"
    }
   ],
   "source": [
    "#display the first five rows of the data\n",
    "df.head()"
   ]
  },
  {
   "cell_type": "code",
   "execution_count": 5,
   "id": "4b99f58b",
   "metadata": {
    "execution": {
     "iopub.execute_input": "2023-08-22T10:27:57.507624Z",
     "iopub.status.busy": "2023-08-22T10:27:57.507127Z",
     "iopub.status.idle": "2023-08-22T10:27:57.514803Z",
     "shell.execute_reply": "2023-08-22T10:27:57.513692Z"
    },
    "papermill": {
     "duration": 0.022475,
     "end_time": "2023-08-22T10:27:57.517399",
     "exception": false,
     "start_time": "2023-08-22T10:27:57.494924",
     "status": "completed"
    },
    "tags": []
   },
   "outputs": [
    {
     "data": {
      "text/plain": [
       "(9994, 11)"
      ]
     },
     "execution_count": 5,
     "metadata": {},
     "output_type": "execute_result"
    }
   ],
   "source": [
    "#display the rows and columns\n",
    "df.shape"
   ]
  },
  {
   "cell_type": "code",
   "execution_count": 6,
   "id": "ab345b22",
   "metadata": {
    "execution": {
     "iopub.execute_input": "2023-08-22T10:27:57.541063Z",
     "iopub.status.busy": "2023-08-22T10:27:57.540637Z",
     "iopub.status.idle": "2023-08-22T10:27:57.581259Z",
     "shell.execute_reply": "2023-08-22T10:27:57.579880Z"
    },
    "papermill": {
     "duration": 0.05575,
     "end_time": "2023-08-22T10:27:57.584087",
     "exception": false,
     "start_time": "2023-08-22T10:27:57.528337",
     "status": "completed"
    },
    "tags": []
   },
   "outputs": [
    {
     "name": "stdout",
     "output_type": "stream",
     "text": [
      "<class 'pandas.core.frame.DataFrame'>\n",
      "RangeIndex: 9994 entries, 0 to 9993\n",
      "Data columns (total 11 columns):\n",
      " #   Column         Non-Null Count  Dtype  \n",
      "---  ------         --------------  -----  \n",
      " 0   Order ID       9994 non-null   object \n",
      " 1   Customer Name  9994 non-null   object \n",
      " 2   Category       9994 non-null   object \n",
      " 3   Sub Category   9994 non-null   object \n",
      " 4   City           9994 non-null   object \n",
      " 5   Order Date     9994 non-null   object \n",
      " 6   Region         9994 non-null   object \n",
      " 7   Sales          9994 non-null   int64  \n",
      " 8   Discount       9994 non-null   float64\n",
      " 9   Profit         9994 non-null   float64\n",
      " 10  State          9994 non-null   object \n",
      "dtypes: float64(2), int64(1), object(8)\n",
      "memory usage: 859.0+ KB\n"
     ]
    }
   ],
   "source": [
    "df.info()"
   ]
  },
  {
   "cell_type": "code",
   "execution_count": 7,
   "id": "4f78c4a6",
   "metadata": {
    "execution": {
     "iopub.execute_input": "2023-08-22T10:27:57.610256Z",
     "iopub.status.busy": "2023-08-22T10:27:57.609070Z",
     "iopub.status.idle": "2023-08-22T10:27:57.637125Z",
     "shell.execute_reply": "2023-08-22T10:27:57.635678Z"
    },
    "papermill": {
     "duration": 0.043276,
     "end_time": "2023-08-22T10:27:57.639785",
     "exception": false,
     "start_time": "2023-08-22T10:27:57.596509",
     "status": "completed"
    },
    "tags": []
   },
   "outputs": [
    {
     "data": {
      "text/html": [
       "<div>\n",
       "<style scoped>\n",
       "    .dataframe tbody tr th:only-of-type {\n",
       "        vertical-align: middle;\n",
       "    }\n",
       "\n",
       "    .dataframe tbody tr th {\n",
       "        vertical-align: top;\n",
       "    }\n",
       "\n",
       "    .dataframe thead th {\n",
       "        text-align: right;\n",
       "    }\n",
       "</style>\n",
       "<table border=\"1\" class=\"dataframe\">\n",
       "  <thead>\n",
       "    <tr style=\"text-align: right;\">\n",
       "      <th></th>\n",
       "      <th>Sales</th>\n",
       "      <th>Discount</th>\n",
       "      <th>Profit</th>\n",
       "    </tr>\n",
       "  </thead>\n",
       "  <tbody>\n",
       "    <tr>\n",
       "      <th>count</th>\n",
       "      <td>9994.000000</td>\n",
       "      <td>9994.000000</td>\n",
       "      <td>9994.000000</td>\n",
       "    </tr>\n",
       "    <tr>\n",
       "      <th>mean</th>\n",
       "      <td>1496.596158</td>\n",
       "      <td>0.226817</td>\n",
       "      <td>374.937082</td>\n",
       "    </tr>\n",
       "    <tr>\n",
       "      <th>std</th>\n",
       "      <td>577.559036</td>\n",
       "      <td>0.074636</td>\n",
       "      <td>239.932881</td>\n",
       "    </tr>\n",
       "    <tr>\n",
       "      <th>min</th>\n",
       "      <td>500.000000</td>\n",
       "      <td>0.100000</td>\n",
       "      <td>25.250000</td>\n",
       "    </tr>\n",
       "    <tr>\n",
       "      <th>25%</th>\n",
       "      <td>1000.000000</td>\n",
       "      <td>0.160000</td>\n",
       "      <td>180.022500</td>\n",
       "    </tr>\n",
       "    <tr>\n",
       "      <th>50%</th>\n",
       "      <td>1498.000000</td>\n",
       "      <td>0.230000</td>\n",
       "      <td>320.780000</td>\n",
       "    </tr>\n",
       "    <tr>\n",
       "      <th>75%</th>\n",
       "      <td>1994.750000</td>\n",
       "      <td>0.290000</td>\n",
       "      <td>525.627500</td>\n",
       "    </tr>\n",
       "    <tr>\n",
       "      <th>max</th>\n",
       "      <td>2500.000000</td>\n",
       "      <td>0.350000</td>\n",
       "      <td>1120.950000</td>\n",
       "    </tr>\n",
       "  </tbody>\n",
       "</table>\n",
       "</div>"
      ],
      "text/plain": [
       "             Sales     Discount       Profit\n",
       "count  9994.000000  9994.000000  9994.000000\n",
       "mean   1496.596158     0.226817   374.937082\n",
       "std     577.559036     0.074636   239.932881\n",
       "min     500.000000     0.100000    25.250000\n",
       "25%    1000.000000     0.160000   180.022500\n",
       "50%    1498.000000     0.230000   320.780000\n",
       "75%    1994.750000     0.290000   525.627500\n",
       "max    2500.000000     0.350000  1120.950000"
      ]
     },
     "execution_count": 7,
     "metadata": {},
     "output_type": "execute_result"
    }
   ],
   "source": [
    "# Dataframe has no NaN values. Lets look at its statistical view . using describe()\n",
    "df.describe()"
   ]
  },
  {
   "cell_type": "code",
   "execution_count": 8,
   "id": "1c6d74de",
   "metadata": {
    "execution": {
     "iopub.execute_input": "2023-08-22T10:27:57.664963Z",
     "iopub.status.busy": "2023-08-22T10:27:57.664184Z",
     "iopub.status.idle": "2023-08-22T10:27:57.720912Z",
     "shell.execute_reply": "2023-08-22T10:27:57.719596Z"
    },
    "papermill": {
     "duration": 0.072496,
     "end_time": "2023-08-22T10:27:57.723728",
     "exception": false,
     "start_time": "2023-08-22T10:27:57.651232",
     "status": "completed"
    },
    "tags": []
   },
   "outputs": [
    {
     "data": {
      "text/html": [
       "<div>\n",
       "<style scoped>\n",
       "    .dataframe tbody tr th:only-of-type {\n",
       "        vertical-align: middle;\n",
       "    }\n",
       "\n",
       "    .dataframe tbody tr th {\n",
       "        vertical-align: top;\n",
       "    }\n",
       "\n",
       "    .dataframe thead th {\n",
       "        text-align: right;\n",
       "    }\n",
       "</style>\n",
       "<table border=\"1\" class=\"dataframe\">\n",
       "  <thead>\n",
       "    <tr style=\"text-align: right;\">\n",
       "      <th></th>\n",
       "      <th>Order ID</th>\n",
       "      <th>Customer Name</th>\n",
       "      <th>Category</th>\n",
       "      <th>Sub Category</th>\n",
       "      <th>City</th>\n",
       "      <th>Order Date</th>\n",
       "      <th>Region</th>\n",
       "      <th>State</th>\n",
       "    </tr>\n",
       "  </thead>\n",
       "  <tbody>\n",
       "    <tr>\n",
       "      <th>count</th>\n",
       "      <td>9994</td>\n",
       "      <td>9994</td>\n",
       "      <td>9994</td>\n",
       "      <td>9994</td>\n",
       "      <td>9994</td>\n",
       "      <td>9994</td>\n",
       "      <td>9994</td>\n",
       "      <td>9994</td>\n",
       "    </tr>\n",
       "    <tr>\n",
       "      <th>unique</th>\n",
       "      <td>9994</td>\n",
       "      <td>50</td>\n",
       "      <td>7</td>\n",
       "      <td>23</td>\n",
       "      <td>24</td>\n",
       "      <td>1236</td>\n",
       "      <td>5</td>\n",
       "      <td>1</td>\n",
       "    </tr>\n",
       "    <tr>\n",
       "      <th>top</th>\n",
       "      <td>OD1</td>\n",
       "      <td>Amrish</td>\n",
       "      <td>Snacks</td>\n",
       "      <td>Health Drinks</td>\n",
       "      <td>Kanyakumari</td>\n",
       "      <td>09-05-2017</td>\n",
       "      <td>West</td>\n",
       "      <td>Tamil Nadu</td>\n",
       "    </tr>\n",
       "    <tr>\n",
       "      <th>freq</th>\n",
       "      <td>1</td>\n",
       "      <td>227</td>\n",
       "      <td>1514</td>\n",
       "      <td>719</td>\n",
       "      <td>459</td>\n",
       "      <td>38</td>\n",
       "      <td>3203</td>\n",
       "      <td>9994</td>\n",
       "    </tr>\n",
       "  </tbody>\n",
       "</table>\n",
       "</div>"
      ],
      "text/plain": [
       "       Order ID Customer Name Category   Sub Category         City  \\\n",
       "count      9994          9994     9994           9994         9994   \n",
       "unique     9994            50        7             23           24   \n",
       "top         OD1        Amrish   Snacks  Health Drinks  Kanyakumari   \n",
       "freq          1           227     1514            719          459   \n",
       "\n",
       "        Order Date Region       State  \n",
       "count         9994   9994        9994  \n",
       "unique        1236      5           1  \n",
       "top     09-05-2017   West  Tamil Nadu  \n",
       "freq            38   3203        9994  "
      ]
     },
     "execution_count": 8,
     "metadata": {},
     "output_type": "execute_result"
    }
   ],
   "source": [
    "df.describe(include='object')"
   ]
  },
  {
   "cell_type": "code",
   "execution_count": 9,
   "id": "40490355",
   "metadata": {
    "execution": {
     "iopub.execute_input": "2023-08-22T10:27:57.749164Z",
     "iopub.status.busy": "2023-08-22T10:27:57.748706Z",
     "iopub.status.idle": "2023-08-22T10:27:57.756581Z",
     "shell.execute_reply": "2023-08-22T10:27:57.755377Z"
    },
    "papermill": {
     "duration": 0.024129,
     "end_time": "2023-08-22T10:27:57.759427",
     "exception": false,
     "start_time": "2023-08-22T10:27:57.735298",
     "status": "completed"
    },
    "tags": []
   },
   "outputs": [
    {
     "data": {
      "text/plain": [
       "Index(['Order ID', 'Customer Name', 'Category', 'Sub Category', 'City',\n",
       "       'Order Date', 'Region', 'Sales', 'Discount', 'Profit', 'State'],\n",
       "      dtype='object')"
      ]
     },
     "execution_count": 9,
     "metadata": {},
     "output_type": "execute_result"
    }
   ],
   "source": [
    "#column names of table\n",
    "df.columns"
   ]
  },
  {
   "cell_type": "code",
   "execution_count": 10,
   "id": "6cdc75dd",
   "metadata": {
    "execution": {
     "iopub.execute_input": "2023-08-22T10:27:57.784884Z",
     "iopub.status.busy": "2023-08-22T10:27:57.784475Z",
     "iopub.status.idle": "2023-08-22T10:27:57.793430Z",
     "shell.execute_reply": "2023-08-22T10:27:57.792179Z"
    },
    "papermill": {
     "duration": 0.024926,
     "end_time": "2023-08-22T10:27:57.796064",
     "exception": false,
     "start_time": "2023-08-22T10:27:57.771138",
     "status": "completed"
    },
    "tags": []
   },
   "outputs": [
    {
     "data": {
      "text/plain": [
       "Order ID          object\n",
       "Customer Name     object\n",
       "Category          object\n",
       "Sub Category      object\n",
       "City              object\n",
       "Order Date        object\n",
       "Region            object\n",
       "Sales              int64\n",
       "Discount         float64\n",
       "Profit           float64\n",
       "State             object\n",
       "dtype: object"
      ]
     },
     "execution_count": 10,
     "metadata": {},
     "output_type": "execute_result"
    }
   ],
   "source": [
    "# lets check data type of columns/attributes\n",
    "df.dtypes"
   ]
  },
  {
   "cell_type": "markdown",
   "id": "38c5b06e",
   "metadata": {
    "papermill": {
     "duration": 0.011597,
     "end_time": "2023-08-22T10:27:57.819694",
     "exception": false,
     "start_time": "2023-08-22T10:27:57.808097",
     "status": "completed"
    },
    "tags": []
   },
   "source": [
    "There are categorical and numerical data in this dataset. "
   ]
  },
  {
   "cell_type": "markdown",
   "id": "bd8533b0",
   "metadata": {
    "papermill": {
     "duration": 0.011595,
     "end_time": "2023-08-22T10:27:57.844666",
     "exception": false,
     "start_time": "2023-08-22T10:27:57.833071",
     "status": "completed"
    },
    "tags": []
   },
   "source": [
    "Now, we will take a look at the columns into two categories: Categorical and numerical data. For this section, we will have a general understanding of the most important columns. Next section we will explore correlation among columns.\n",
    "\n",
    "Categorical columns:\n",
    "\n",
    "Order ID          \n",
    "Customer Name     \n",
    "Category          \n",
    "Sub Category      \n",
    "City              \n",
    "Order Date       \n",
    "Region   \n",
    "State\n",
    "\n",
    "Numerical columns:\n",
    "\n",
    "Sales\n",
    "Profit\n",
    "Discount"
   ]
  },
  {
   "cell_type": "markdown",
   "id": "24030a38",
   "metadata": {
    "papermill": {
     "duration": 0.011486,
     "end_time": "2023-08-22T10:27:57.867969",
     "exception": false,
     "start_time": "2023-08-22T10:27:57.856483",
     "status": "completed"
    },
    "tags": []
   },
   "source": [
    "# **## Data Cleaning**"
   ]
  },
  {
   "cell_type": "code",
   "execution_count": 11,
   "id": "eca91c76",
   "metadata": {
    "execution": {
     "iopub.execute_input": "2023-08-22T10:27:57.893933Z",
     "iopub.status.busy": "2023-08-22T10:27:57.893470Z",
     "iopub.status.idle": "2023-08-22T10:27:57.961107Z",
     "shell.execute_reply": "2023-08-22T10:27:57.960055Z"
    },
    "papermill": {
     "duration": 0.083893,
     "end_time": "2023-08-22T10:27:57.964062",
     "exception": false,
     "start_time": "2023-08-22T10:27:57.880169",
     "status": "completed"
    },
    "tags": []
   },
   "outputs": [],
   "source": [
    "#Let's change the datatype of Order Date from object to date\n",
    "df ['Order Date'] = pd.to_datetime (df ['Order Date'], errors='ignore')"
   ]
  },
  {
   "cell_type": "code",
   "execution_count": 12,
   "id": "1c05c1c1",
   "metadata": {
    "execution": {
     "iopub.execute_input": "2023-08-22T10:27:57.990159Z",
     "iopub.status.busy": "2023-08-22T10:27:57.989690Z",
     "iopub.status.idle": "2023-08-22T10:27:58.014063Z",
     "shell.execute_reply": "2023-08-22T10:27:58.012369Z"
    },
    "papermill": {
     "duration": 0.040365,
     "end_time": "2023-08-22T10:27:58.016613",
     "exception": false,
     "start_time": "2023-08-22T10:27:57.976248",
     "status": "completed"
    },
    "tags": []
   },
   "outputs": [
    {
     "name": "stdout",
     "output_type": "stream",
     "text": [
      "<class 'pandas.core.frame.DataFrame'>\n",
      "RangeIndex: 9994 entries, 0 to 9993\n",
      "Data columns (total 11 columns):\n",
      " #   Column         Non-Null Count  Dtype         \n",
      "---  ------         --------------  -----         \n",
      " 0   Order ID       9994 non-null   object        \n",
      " 1   Customer Name  9994 non-null   object        \n",
      " 2   Category       9994 non-null   object        \n",
      " 3   Sub Category   9994 non-null   object        \n",
      " 4   City           9994 non-null   object        \n",
      " 5   Order Date     9994 non-null   datetime64[ns]\n",
      " 6   Region         9994 non-null   object        \n",
      " 7   Sales          9994 non-null   int64         \n",
      " 8   Discount       9994 non-null   float64       \n",
      " 9   Profit         9994 non-null   float64       \n",
      " 10  State          9994 non-null   object        \n",
      "dtypes: datetime64[ns](1), float64(2), int64(1), object(7)\n",
      "memory usage: 859.0+ KB\n"
     ]
    }
   ],
   "source": [
    "#changed to date data type\n",
    "df.info()"
   ]
  },
  {
   "cell_type": "code",
   "execution_count": 13,
   "id": "4367d1ad",
   "metadata": {
    "execution": {
     "iopub.execute_input": "2023-08-22T10:27:58.042224Z",
     "iopub.status.busy": "2023-08-22T10:27:58.041785Z",
     "iopub.status.idle": "2023-08-22T10:27:58.062442Z",
     "shell.execute_reply": "2023-08-22T10:27:58.061174Z"
    },
    "papermill": {
     "duration": 0.036491,
     "end_time": "2023-08-22T10:27:58.064847",
     "exception": false,
     "start_time": "2023-08-22T10:27:58.028356",
     "status": "completed"
    },
    "tags": []
   },
   "outputs": [
    {
     "data": {
      "text/plain": [
       "Order ID         0\n",
       "Customer Name    0\n",
       "Category         0\n",
       "Sub Category     0\n",
       "City             0\n",
       "Order Date       0\n",
       "Region           0\n",
       "Sales            0\n",
       "Discount         0\n",
       "Profit           0\n",
       "State            0\n",
       "dtype: int64"
      ]
     },
     "execution_count": 13,
     "metadata": {},
     "output_type": "execute_result"
    }
   ],
   "source": [
    "# Let\"s count the number of missing (NaN) values in each column \n",
    "df.isnull().sum()"
   ]
  },
  {
   "cell_type": "markdown",
   "id": "0d76eaa3",
   "metadata": {
    "papermill": {
     "duration": 0.012604,
     "end_time": "2023-08-22T10:27:58.089744",
     "exception": false,
     "start_time": "2023-08-22T10:27:58.077140",
     "status": "completed"
    },
    "tags": []
   },
   "source": [
    "There is no missing values\n"
   ]
  },
  {
   "cell_type": "code",
   "execution_count": 14,
   "id": "78b81f7c",
   "metadata": {
    "execution": {
     "iopub.execute_input": "2023-08-22T10:27:58.116278Z",
     "iopub.status.busy": "2023-08-22T10:27:58.115872Z",
     "iopub.status.idle": "2023-08-22T10:27:58.138935Z",
     "shell.execute_reply": "2023-08-22T10:27:58.137653Z"
    },
    "papermill": {
     "duration": 0.039561,
     "end_time": "2023-08-22T10:27:58.141670",
     "exception": false,
     "start_time": "2023-08-22T10:27:58.102109",
     "status": "completed"
    },
    "tags": []
   },
   "outputs": [
    {
     "data": {
      "text/plain": [
       "0"
      ]
     },
     "execution_count": 14,
     "metadata": {},
     "output_type": "execute_result"
    }
   ],
   "source": [
    "#count the number of duplicate rows \n",
    "df.duplicated().sum()"
   ]
  },
  {
   "cell_type": "code",
   "execution_count": 15,
   "id": "8b276db6",
   "metadata": {
    "execution": {
     "iopub.execute_input": "2023-08-22T10:27:58.168664Z",
     "iopub.status.busy": "2023-08-22T10:27:58.168252Z",
     "iopub.status.idle": "2023-08-22T10:27:58.513188Z",
     "shell.execute_reply": "2023-08-22T10:27:58.511797Z"
    },
    "papermill": {
     "duration": 0.36263,
     "end_time": "2023-08-22T10:27:58.516496",
     "exception": false,
     "start_time": "2023-08-22T10:27:58.153866",
     "status": "completed"
    },
    "tags": []
   },
   "outputs": [
    {
     "data": {
      "image/png": "[encoded data removed]",
      "text/plain": [
       "<Figure size 640x480 with 2 Axes>"
      ]
     },
     "metadata": {},
     "output_type": "display_data"
    }
   ],
   "source": [
    "sns.heatmap(df.corr(), annot = True, cmap = 'RdYlGn',fmt='.2f', lw = 8, linecolor = 'white');"
   ]
  },
  {
   "cell_type": "markdown",
   "id": "076910e6",
   "metadata": {
    "papermill": {
     "duration": 0.012443,
     "end_time": "2023-08-22T10:27:58.541826",
     "exception": false,
     "start_time": "2023-08-22T10:27:58.529383",
     "status": "completed"
    },
    "tags": []
   },
   "source": [
    "Analysis:\n",
    "\n",
    "1. **Sales and Profit Correlation (0.61)**:\n",
    "   - A positive correlation of 0.61 between sales and profit suggests a moderately strong positive relationship between these two variables.\n",
    "   - As sales increase, profit tends to increase as well, and as sales decrease, profit tends to decrease. The relationship is not perfect but is still considered positive.\n",
    "\n",
    "2. **Discount and Profit Correlation (0.00)**:\n",
    "   - There is no significant trend or pattern suggesting that changes in discount lead to predictable changes in profit. \n",
    "   - In practical terms, this correlation suggests that there is  no linear relationship between the amount of discount applied and the resulting profit. Changes in discount have minimal impact on profit.\n",
    "   \n",
    " \n",
    "3. **Discount and Sales Correlation (-0.01)**:\n",
    "   - A very low negative correlation of -0.01 between discount and sales suggests a very weak negative relationship between these two variables.\n",
    "   - In practical terms, this correlation indicates that there is almost no linear relationship between the amount of discount applied and the level of sales. Changing the discount has little impact on sales."
   ]
  },
  {
   "cell_type": "markdown",
   "id": "60ec0b7e",
   "metadata": {
    "papermill": {
     "duration": 0.013091,
     "end_time": "2023-08-22T10:27:58.567723",
     "exception": false,
     "start_time": "2023-08-22T10:27:58.554632",
     "status": "completed"
    },
    "tags": []
   },
   "source": [
    "# **## Bivariate Analysis**"
   ]
  },
  {
   "cell_type": "code",
   "execution_count": 16,
   "id": "3b4e8453",
   "metadata": {
    "execution": {
     "iopub.execute_input": "2023-08-22T10:27:58.595494Z",
     "iopub.status.busy": "2023-08-22T10:27:58.594968Z",
     "iopub.status.idle": "2023-08-22T10:27:58.629526Z",
     "shell.execute_reply": "2023-08-22T10:27:58.628255Z"
    },
    "papermill": {
     "duration": 0.051988,
     "end_time": "2023-08-22T10:27:58.632338",
     "exception": false,
     "start_time": "2023-08-22T10:27:58.580350",
     "status": "completed"
    },
    "tags": []
   },
   "outputs": [
    {
     "data": {
      "text/html": [
       "<div>\n",
       "<style scoped>\n",
       "    .dataframe tbody tr th:only-of-type {\n",
       "        vertical-align: middle;\n",
       "    }\n",
       "\n",
       "    .dataframe tbody tr th {\n",
       "        vertical-align: top;\n",
       "    }\n",
       "\n",
       "    .dataframe thead th {\n",
       "        text-align: right;\n",
       "    }\n",
       "</style>\n",
       "<table border=\"1\" class=\"dataframe\">\n",
       "  <thead>\n",
       "    <tr style=\"text-align: right;\">\n",
       "      <th></th>\n",
       "      <th>Order ID</th>\n",
       "      <th>Customer Name</th>\n",
       "      <th>Sub Category</th>\n",
       "      <th>City</th>\n",
       "      <th>Order Date</th>\n",
       "      <th>Region</th>\n",
       "      <th>Sales</th>\n",
       "      <th>Discount</th>\n",
       "      <th>Profit</th>\n",
       "      <th>State</th>\n",
       "    </tr>\n",
       "    <tr>\n",
       "      <th>Category</th>\n",
       "      <th></th>\n",
       "      <th></th>\n",
       "      <th></th>\n",
       "      <th></th>\n",
       "      <th></th>\n",
       "      <th></th>\n",
       "      <th></th>\n",
       "      <th></th>\n",
       "      <th></th>\n",
       "      <th></th>\n",
       "    </tr>\n",
       "  </thead>\n",
       "  <tbody>\n",
       "    <tr>\n",
       "      <th>Bakery</th>\n",
       "      <td>OD9</td>\n",
       "      <td>Hafiz</td>\n",
       "      <td>Biscuits</td>\n",
       "      <td>Tirunelveli</td>\n",
       "      <td>2015-06-09</td>\n",
       "      <td>West</td>\n",
       "      <td>791</td>\n",
       "      <td>0.23</td>\n",
       "      <td>181.93</td>\n",
       "      <td>Tamil Nadu</td>\n",
       "    </tr>\n",
       "    <tr>\n",
       "      <th>Beverages</th>\n",
       "      <td>OD2</td>\n",
       "      <td>Sudha</td>\n",
       "      <td>Health Drinks</td>\n",
       "      <td>Krishnagiri</td>\n",
       "      <td>2017-11-08</td>\n",
       "      <td>South</td>\n",
       "      <td>749</td>\n",
       "      <td>0.18</td>\n",
       "      <td>149.80</td>\n",
       "      <td>Tamil Nadu</td>\n",
       "    </tr>\n",
       "    <tr>\n",
       "      <th>Eggs, Meat &amp; Fish</th>\n",
       "      <td>OD12</td>\n",
       "      <td>Yadav</td>\n",
       "      <td>Eggs</td>\n",
       "      <td>Namakkal</td>\n",
       "      <td>2015-06-09</td>\n",
       "      <td>West</td>\n",
       "      <td>701</td>\n",
       "      <td>0.10</td>\n",
       "      <td>308.44</td>\n",
       "      <td>Tamil Nadu</td>\n",
       "    </tr>\n",
       "    <tr>\n",
       "      <th>Food Grains</th>\n",
       "      <td>OD3</td>\n",
       "      <td>Hussain</td>\n",
       "      <td>Atta &amp; Flour</td>\n",
       "      <td>Perambalur</td>\n",
       "      <td>2017-06-12</td>\n",
       "      <td>West</td>\n",
       "      <td>2360</td>\n",
       "      <td>0.21</td>\n",
       "      <td>165.20</td>\n",
       "      <td>Tamil Nadu</td>\n",
       "    </tr>\n",
       "    <tr>\n",
       "      <th>Fruits &amp; Veggies</th>\n",
       "      <td>OD4</td>\n",
       "      <td>Jackson</td>\n",
       "      <td>Fresh Vegetables</td>\n",
       "      <td>Dharmapuri</td>\n",
       "      <td>2016-10-11</td>\n",
       "      <td>South</td>\n",
       "      <td>896</td>\n",
       "      <td>0.25</td>\n",
       "      <td>89.60</td>\n",
       "      <td>Tamil Nadu</td>\n",
       "    </tr>\n",
       "    <tr>\n",
       "      <th>Oil &amp; Masala</th>\n",
       "      <td>OD1</td>\n",
       "      <td>Harish</td>\n",
       "      <td>Masalas</td>\n",
       "      <td>Vellore</td>\n",
       "      <td>2017-11-08</td>\n",
       "      <td>North</td>\n",
       "      <td>1254</td>\n",
       "      <td>0.12</td>\n",
       "      <td>401.28</td>\n",
       "      <td>Tamil Nadu</td>\n",
       "    </tr>\n",
       "    <tr>\n",
       "      <th>Snacks</th>\n",
       "      <td>OD11</td>\n",
       "      <td>Ganesh</td>\n",
       "      <td>Chocolates</td>\n",
       "      <td>Karur</td>\n",
       "      <td>2015-06-09</td>\n",
       "      <td>West</td>\n",
       "      <td>1903</td>\n",
       "      <td>0.13</td>\n",
       "      <td>437.69</td>\n",
       "      <td>Tamil Nadu</td>\n",
       "    </tr>\n",
       "  </tbody>\n",
       "</table>\n",
       "</div>"
      ],
      "text/plain": [
       "                  Order ID Customer Name      Sub Category         City  \\\n",
       "Category                                                                  \n",
       "Bakery                 OD9         Hafiz          Biscuits  Tirunelveli   \n",
       "Beverages              OD2         Sudha     Health Drinks  Krishnagiri   \n",
       "Eggs, Meat & Fish     OD12         Yadav              Eggs     Namakkal   \n",
       "Food Grains            OD3       Hussain      Atta & Flour   Perambalur   \n",
       "Fruits & Veggies       OD4       Jackson  Fresh Vegetables   Dharmapuri   \n",
       "Oil & Masala           OD1        Harish           Masalas      Vellore   \n",
       "Snacks                OD11        Ganesh        Chocolates        Karur   \n",
       "\n",
       "                  Order Date Region  Sales  Discount  Profit       State  \n",
       "Category                                                                  \n",
       "Bakery            2015-06-09   West    791      0.23  181.93  Tamil Nadu  \n",
       "Beverages         2017-11-08  South    749      0.18  149.80  Tamil Nadu  \n",
       "Eggs, Meat & Fish 2015-06-09   West    701      0.10  308.44  Tamil Nadu  \n",
       "Food Grains       2017-06-12   West   2360      0.21  165.20  Tamil Nadu  \n",
       "Fruits & Veggies  2016-10-11  South    896      0.25   89.60  Tamil Nadu  \n",
       "Oil & Masala      2017-11-08  North   1254      0.12  401.28  Tamil Nadu  \n",
       "Snacks            2015-06-09   West   1903      0.13  437.69  Tamil Nadu  "
      ]
     },
     "execution_count": 16,
     "metadata": {},
     "output_type": "execute_result"
    }
   ],
   "source": [
    "# applying groupby() function to\n",
    "# group the data on Category.\n",
    "da=df.groupby(\"Category\")\n",
    "da.first()"
   ]
  },
  {
   "cell_type": "code",
   "execution_count": 17,
   "id": "1b7945be",
   "metadata": {
    "execution": {
     "iopub.execute_input": "2023-08-22T10:27:58.662696Z",
     "iopub.status.busy": "2023-08-22T10:27:58.661839Z",
     "iopub.status.idle": "2023-08-22T10:27:58.988220Z",
     "shell.execute_reply": "2023-08-22T10:27:58.987097Z"
    },
    "papermill": {
     "duration": 0.344863,
     "end_time": "2023-08-22T10:27:58.990993",
     "exception": false,
     "start_time": "2023-08-22T10:27:58.646130",
     "status": "completed"
    },
    "tags": []
   },
   "outputs": [
    {
     "data": {
      "image/png": "[encoded data removed]",
      "text/plain": [
       "<Figure size 640x480 with 1 Axes>"
      ]
     },
     "metadata": {},
     "output_type": "display_data"
    }
   ],
   "source": [
    "#we want to find the total sale by category\n",
    "# firstly, we group by Category and get the total number of sales for each category\n",
    "Sales_category=df.groupby(\"Category\")[\"Sales\"].sum()\n",
    "#we create a plot of sales by category\n",
    "Sales_category.plot(kind='bar')\n",
    "plt.title('Category by Sales', fontsize = 14)\n",
    "plt.xlabel('Category')\n",
    "plt.ylabel('Sales')\n",
    "plt.show()"
   ]
  },
  {
   "cell_type": "markdown",
   "id": "6813da80",
   "metadata": {
    "papermill": {
     "duration": 0.013513,
     "end_time": "2023-08-22T10:27:59.018426",
     "exception": false,
     "start_time": "2023-08-22T10:27:59.004913",
     "status": "completed"
    },
    "tags": []
   },
   "source": [
    "The Egg, Meat &Fish Category contribute most to the sales, it had about 15% of the total sales, the company can invest more in it."
   ]
  },
  {
   "cell_type": "code",
   "execution_count": 18,
   "id": "775ea55b",
   "metadata": {
    "execution": {
     "iopub.execute_input": "2023-08-22T10:27:59.049852Z",
     "iopub.status.busy": "2023-08-22T10:27:59.048934Z",
     "iopub.status.idle": "2023-08-22T10:27:59.162913Z",
     "shell.execute_reply": "2023-08-22T10:27:59.161667Z"
    },
    "papermill": {
     "duration": 0.13351,
     "end_time": "2023-08-22T10:27:59.166112",
     "exception": false,
     "start_time": "2023-08-22T10:27:59.032602",
     "status": "completed"
    },
    "tags": []
   },
   "outputs": [],
   "source": [
    "#Extract month from the order date\n",
    "#Extract month from the order date\n",
    "df['month_no'] = df['Order Date'].dt.month\n",
    "df['Month'] = pd.to_datetime(df['Order Date']).dt.strftime('%B')\n",
    "df['year'] = df['Order Date'].dt.year\n"
   ]
  },
  {
   "cell_type": "code",
   "execution_count": 19,
   "id": "947b9de5",
   "metadata": {
    "execution": {
     "iopub.execute_input": "2023-08-22T10:27:59.196464Z",
     "iopub.status.busy": "2023-08-22T10:27:59.196031Z",
     "iopub.status.idle": "2023-08-22T10:27:59.221706Z",
     "shell.execute_reply": "2023-08-22T10:27:59.220307Z"
    },
    "papermill": {
     "duration": 0.04452,
     "end_time": "2023-08-22T10:27:59.224576",
     "exception": false,
     "start_time": "2023-08-22T10:27:59.180056",
     "status": "completed"
    },
    "tags": []
   },
   "outputs": [
    {
     "data": {
      "text/html": [
       "<div>\n",
       "<style scoped>\n",
       "    .dataframe tbody tr th:only-of-type {\n",
       "        vertical-align: middle;\n",
       "    }\n",
       "\n",
       "    .dataframe tbody tr th {\n",
       "        vertical-align: top;\n",
       "    }\n",
       "\n",
       "    .dataframe thead th {\n",
       "        text-align: right;\n",
       "    }\n",
       "</style>\n",
       "<table border=\"1\" class=\"dataframe\">\n",
       "  <thead>\n",
       "    <tr style=\"text-align: right;\">\n",
       "      <th></th>\n",
       "      <th>Order ID</th>\n",
       "      <th>Customer Name</th>\n",
       "      <th>Category</th>\n",
       "      <th>Sub Category</th>\n",
       "      <th>City</th>\n",
       "      <th>Order Date</th>\n",
       "      <th>Region</th>\n",
       "      <th>Sales</th>\n",
       "      <th>Discount</th>\n",
       "      <th>Profit</th>\n",
       "      <th>State</th>\n",
       "      <th>month_no</th>\n",
       "      <th>Month</th>\n",
       "      <th>year</th>\n",
       "    </tr>\n",
       "  </thead>\n",
       "  <tbody>\n",
       "    <tr>\n",
       "      <th>0</th>\n",
       "      <td>OD1</td>\n",
       "      <td>Harish</td>\n",
       "      <td>Oil &amp; Masala</td>\n",
       "      <td>Masalas</td>\n",
       "      <td>Vellore</td>\n",
       "      <td>2017-11-08</td>\n",
       "      <td>North</td>\n",
       "      <td>1254</td>\n",
       "      <td>0.12</td>\n",
       "      <td>401.28</td>\n",
       "      <td>Tamil Nadu</td>\n",
       "      <td>11</td>\n",
       "      <td>November</td>\n",
       "      <td>2017</td>\n",
       "    </tr>\n",
       "    <tr>\n",
       "      <th>1</th>\n",
       "      <td>OD2</td>\n",
       "      <td>Sudha</td>\n",
       "      <td>Beverages</td>\n",
       "      <td>Health Drinks</td>\n",
       "      <td>Krishnagiri</td>\n",
       "      <td>2017-11-08</td>\n",
       "      <td>South</td>\n",
       "      <td>749</td>\n",
       "      <td>0.18</td>\n",
       "      <td>149.80</td>\n",
       "      <td>Tamil Nadu</td>\n",
       "      <td>11</td>\n",
       "      <td>November</td>\n",
       "      <td>2017</td>\n",
       "    </tr>\n",
       "    <tr>\n",
       "      <th>2</th>\n",
       "      <td>OD3</td>\n",
       "      <td>Hussain</td>\n",
       "      <td>Food Grains</td>\n",
       "      <td>Atta &amp; Flour</td>\n",
       "      <td>Perambalur</td>\n",
       "      <td>2017-06-12</td>\n",
       "      <td>West</td>\n",
       "      <td>2360</td>\n",
       "      <td>0.21</td>\n",
       "      <td>165.20</td>\n",
       "      <td>Tamil Nadu</td>\n",
       "      <td>6</td>\n",
       "      <td>June</td>\n",
       "      <td>2017</td>\n",
       "    </tr>\n",
       "    <tr>\n",
       "      <th>3</th>\n",
       "      <td>OD4</td>\n",
       "      <td>Jackson</td>\n",
       "      <td>Fruits &amp; Veggies</td>\n",
       "      <td>Fresh Vegetables</td>\n",
       "      <td>Dharmapuri</td>\n",
       "      <td>2016-10-11</td>\n",
       "      <td>South</td>\n",
       "      <td>896</td>\n",
       "      <td>0.25</td>\n",
       "      <td>89.60</td>\n",
       "      <td>Tamil Nadu</td>\n",
       "      <td>10</td>\n",
       "      <td>October</td>\n",
       "      <td>2016</td>\n",
       "    </tr>\n",
       "    <tr>\n",
       "      <th>4</th>\n",
       "      <td>OD5</td>\n",
       "      <td>Ridhesh</td>\n",
       "      <td>Food Grains</td>\n",
       "      <td>Organic Staples</td>\n",
       "      <td>Ooty</td>\n",
       "      <td>2016-10-11</td>\n",
       "      <td>South</td>\n",
       "      <td>2355</td>\n",
       "      <td>0.26</td>\n",
       "      <td>918.45</td>\n",
       "      <td>Tamil Nadu</td>\n",
       "      <td>10</td>\n",
       "      <td>October</td>\n",
       "      <td>2016</td>\n",
       "    </tr>\n",
       "  </tbody>\n",
       "</table>\n",
       "</div>"
      ],
      "text/plain": [
       "  Order ID Customer Name          Category      Sub Category         City  \\\n",
       "0      OD1        Harish      Oil & Masala           Masalas      Vellore   \n",
       "1      OD2         Sudha         Beverages     Health Drinks  Krishnagiri   \n",
       "2      OD3       Hussain       Food Grains      Atta & Flour   Perambalur   \n",
       "3      OD4       Jackson  Fruits & Veggies  Fresh Vegetables   Dharmapuri   \n",
       "4      OD5       Ridhesh       Food Grains   Organic Staples         Ooty   \n",
       "\n",
       "  Order Date Region  Sales  Discount  Profit       State  month_no     Month  \\\n",
       "0 2017-11-08  North   1254      0.12  401.28  Tamil Nadu        11  November   \n",
       "1 2017-11-08  South    749      0.18  149.80  Tamil Nadu        11  November   \n",
       "2 2017-06-12   West   2360      0.21  165.20  Tamil Nadu         6      June   \n",
       "3 2016-10-11  South    896      0.25   89.60  Tamil Nadu        10   October   \n",
       "4 2016-10-11  South   2355      0.26  918.45  Tamil Nadu        10   October   \n",
       "\n",
       "   year  \n",
       "0  2017  \n",
       "1  2017  \n",
       "2  2017  \n",
       "3  2016  \n",
       "4  2016  "
      ]
     },
     "execution_count": 19,
     "metadata": {},
     "output_type": "execute_result"
    }
   ],
   "source": [
    "#check the data to view the added columns\n",
    "df.head()"
   ]
  },
  {
   "cell_type": "code",
   "execution_count": 20,
   "id": "aec9da13",
   "metadata": {
    "execution": {
     "iopub.execute_input": "2023-08-22T10:27:59.255615Z",
     "iopub.status.busy": "2023-08-22T10:27:59.254359Z",
     "iopub.status.idle": "2023-08-22T10:27:59.551201Z",
     "shell.execute_reply": "2023-08-22T10:27:59.549775Z"
    },
    "papermill": {
     "duration": 0.315608,
     "end_time": "2023-08-22T10:27:59.554269",
     "exception": false,
     "start_time": "2023-08-22T10:27:59.238661",
     "status": "completed"
    },
    "tags": []
   },
   "outputs": [
    {
     "data": {
      "image/png": "[encoded data removed]",
      "text/plain": [
       "<Figure size 1000x600 with 1 Axes>"
      ]
     },
     "metadata": {},
     "output_type": "display_data"
    }
   ],
   "source": [
    "# Sum up sales by month\n",
    "monthly_sales = df.groupby('Month')['Sales'].sum().reset_index()\n",
    "\n",
    "# Sort the data by month\n",
    "monthly_sales_sorted = monthly_sales.sort_values(by='Month')\n",
    "\n",
    "# Create the line chart\n",
    "plt.figure(figsize=(10, 6))\n",
    "plt.plot(monthly_sales_sorted['Month'], monthly_sales_sorted['Sales'], marker='o')\n",
    "plt.title('Sales by Month')\n",
    "plt.xlabel('Month')\n",
    "plt.ylabel('Sales')\n",
    "plt.xticks(monthly_sales_sorted['Month'], ['Jan', 'Feb', 'Mar', 'Apr', 'May', 'Jun', 'Jul', 'Aug', 'Sep', 'Oct', 'Nov', 'Dec'])\n",
    "plt.grid(True)\n",
    "plt.show()\n"
   ]
  },
  {
   "cell_type": "markdown",
   "id": "834eff9c",
   "metadata": {
    "papermill": {
     "duration": 0.014701,
     "end_time": "2023-08-22T10:27:59.584045",
     "exception": false,
     "start_time": "2023-08-22T10:27:59.569344",
     "status": "completed"
    },
    "tags": []
   },
   "source": [
    "The Sales increase as the month increases which shows the company devised better and suitable plan to increase sales at each point in time."
   ]
  },
  {
   "cell_type": "code",
   "execution_count": 21,
   "id": "f927b99a",
   "metadata": {
    "execution": {
     "iopub.execute_input": "2023-08-22T10:27:59.617723Z",
     "iopub.status.busy": "2023-08-22T10:27:59.616385Z",
     "iopub.status.idle": "2023-08-22T10:27:59.775733Z",
     "shell.execute_reply": "2023-08-22T10:27:59.773865Z"
    },
    "papermill": {
     "duration": 0.181367,
     "end_time": "2023-08-22T10:27:59.780776",
     "exception": false,
     "start_time": "2023-08-22T10:27:59.599409",
     "status": "completed"
    },
    "tags": []
   },
   "outputs": [
    {
     "data": {
      "image/png": "[encoded data removed]",
      "text/plain": [
       "<Figure size 640x480 with 1 Axes>"
      ]
     },
     "metadata": {},
     "output_type": "display_data"
    }
   ],
   "source": [
    "#we want to find the Yearly Sales\n",
    "# we group by Year and get the total number of sales for each year\n",
    "Yearly_Sales=df.groupby(\"year\")[\"Sales\"].sum()\n",
    "# we create a pie chart with the sales by year\n",
    "plt.pie(Yearly_Sales, labels=Yearly_Sales.index, autopct='%1.1f%%')\n",
    "plt.title('Sales by Year')\n",
    "plt.show()\n",
    "#Monthly_Sales.plot(kind='pie')\n",
    "#plt.title('Yearly Sales', fontsize = 14)\n",
    "#plt.show()"
   ]
  },
  {
   "cell_type": "markdown",
   "id": "c1cd1f4f",
   "metadata": {
    "papermill": {
     "duration": 0.020759,
     "end_time": "2023-08-22T10:27:59.834832",
     "exception": false,
     "start_time": "2023-08-22T10:27:59.814073",
     "status": "completed"
    },
    "tags": []
   },
   "source": [
    "The year 2017 and 2018 had more than 50 percent of the total sales which implies the sales increase as the year increases."
   ]
  },
  {
   "cell_type": "code",
   "execution_count": 22,
   "id": "42b27f80",
   "metadata": {
    "execution": {
     "iopub.execute_input": "2023-08-22T10:27:59.871152Z",
     "iopub.status.busy": "2023-08-22T10:27:59.869969Z",
     "iopub.status.idle": "2023-08-22T10:28:00.113292Z",
     "shell.execute_reply": "2023-08-22T10:28:00.111071Z"
    },
    "papermill": {
     "duration": 0.263958,
     "end_time": "2023-08-22T10:28:00.116425",
     "exception": false,
     "start_time": "2023-08-22T10:27:59.852467",
     "status": "completed"
    },
    "tags": []
   },
   "outputs": [
    {
     "data": {
      "image/png": "[encoded data removed]",
      "text/plain": [
       "<Figure size 640x480 with 1 Axes>"
      ]
     },
     "metadata": {},
     "output_type": "display_data"
    }
   ],
   "source": [
    "\n",
    "\n",
    "# Step 1: Extract relevant columns\n",
    "city_sales = df[['City', 'Sales']]\n",
    "\n",
    "# Step 2: Calculate total sales per city\n",
    "total_sales = city_sales.groupby('City').sum()\n",
    "\n",
    "# Step 3: Sort the cities by sales\n",
    "sorted_cities = total_sales.sort_values(by='Sales', ascending=False)\n",
    "\n",
    "# Step 4: Select the top 5 cities\n",
    "top_cities = sorted_cities.head(5)\n",
    "\n",
    "# Step 5: Plot the bar chart\n",
    "plt.bar(top_cities.index, top_cities['Sales'])\n",
    "plt.xlabel('City')\n",
    "plt.ylabel('Sales')\n",
    "plt.title('Top 5 Cities by Sales')\n",
    "plt.xticks(rotation=45)\n",
    "plt.show()\n"
   ]
  },
  {
   "cell_type": "markdown",
   "id": "6eef8bcc",
   "metadata": {
    "papermill": {
     "duration": 0.016396,
     "end_time": "2023-08-22T10:28:00.150053",
     "exception": false,
     "start_time": "2023-08-22T10:28:00.133657",
     "status": "completed"
    },
    "tags": []
   },
   "source": [
    "The top 5 City with the most Sales between 2015 to 2018 were Kanyakumari,Vellore, Bodi, Tirunelveli and Perambalur. Kanyakumari had $0.71 Sales,Velllore had $0.68 Sales and Bodi had $0.67 Sales or about 4.5% of all Sales, while Tirunelveli, and Perambalur had $0.66m sales respectively."
   ]
  }
 ],
 "metadata": {
  "kernelspec": {
   "display_name": "Python 3",
   "language": "python",
   "name": "python3"
  },
  "language_info": {
   "codemirror_mode": {
    "name": "ipython",
    "version": 3
   },
   "file_extension": ".py",
   "mimetype": "text/x-python",
   "name": "python",
   "nbconvert_exporter": "python",
   "pygments_lexer": "ipython3",
   "version": "3.7.12"
  },
  "papermill": {
   "default_parameters": {},
   "duration": 18.133591,
   "end_time": "2023-08-22T10:28:00.889156",
   "environment_variables": {},
   "exception": null,
   "input_path": "__notebook__.ipynb",
   "output_path": "__notebook__.ipynb",
   "parameters": {},
   "start_time": "2023-08-22T10:27:42.755565",
   "version": "2.4.0"
  }
 },
 "nbformat": 4,
 "nbformat_minor": 5
}
